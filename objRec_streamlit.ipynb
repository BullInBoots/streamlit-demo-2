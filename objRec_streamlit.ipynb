{
  "nbformat": 4,
  "nbformat_minor": 0,
  "metadata": {
    "colab": {
      "provenance": [],
      "authorship_tag": "ABX9TyPodYqAvglG/74Ex/H1Dsfv",
      "include_colab_link": true
    },
    "kernelspec": {
      "name": "python3",
      "display_name": "Python 3"
    },
    "language_info": {
      "name": "python"
    }
  },
  "cells": [
    {
      "cell_type": "markdown",
      "metadata": {
        "id": "view-in-github",
        "colab_type": "text"
      },
      "source": [
        "<a href=\"https://colab.research.google.com/github/BullInBoots/streamlit-demo-2/blob/main/objRec_streamlit.ipynb\" target=\"_parent\"><img src=\"https://colab.research.google.com/assets/colab-badge.svg\" alt=\"Open In Colab\"/></a>"
      ]
    },
    {
      "cell_type": "code",
      "source": [
        "!pip install streamlit\n",
        "!npm install localtunnel"
      ],
      "metadata": {
        "id": "f_0cMTU7oi5w"
      },
      "execution_count": null,
      "outputs": []
    },
    {
      "cell_type": "code",
      "execution_count": null,
      "metadata": {
        "id": "3DxXBvkvoQJG"
      },
      "outputs": [],
      "source": [
        "%%writefile -a app.py\n",
        "import streamlit as st\n",
        "from PIL import Image\n",
        "import numpy as np\n",
        "import matplotlib.pyplot as plt\n",
        "\n",
        "import torch\n",
        "from torchvision.models.detection import fasterrcnn_resnet50_fpn_v2, FasterRCNN_ResNet50_FPN_V2_Weights\n",
        "from torchvision.utils import draw_bounding_boxes"
      ]
    },
    {
      "cell_type": "code",
      "source": [
        "%%writefile -a app.py\n",
        "weights = FasterRCNN_ResNet50_FPN_V2_Weights.DEFAULT\n",
        "categories = weights.meta[\"categories\"]\n",
        "img_preprocess = weights.transforms()"
      ],
      "metadata": {
        "id": "Q12BGP1QpKyh"
      },
      "execution_count": null,
      "outputs": []
    },
    {
      "cell_type": "code",
      "source": [
        "%%writefile -a app.py\n",
        "@st.cache_resource\n",
        "def load_model():\n",
        "  model = fasterrcnn_resnet50_fpn_v2(weights=weights, box_score_thresh=0.8)\n",
        "  model.eval()\n",
        "  return model\n",
        "\n",
        "model = load_model()"
      ],
      "metadata": {
        "id": "qUau720UpkU9"
      },
      "execution_count": null,
      "outputs": []
    },
    {
      "cell_type": "code",
      "source": [
        "%%writefile -a app.py\n",
        "def make_prediction(img):\n",
        "  img_processed = img_preprocess(img)\n",
        "  prediction = model(img_processed.unsqueeze(0))\n",
        "  prediction = prediction[0]\n",
        "  prediction[\"labels\"] = [categories[label] for label in prediction[\"labels\"]]\n",
        "  return prediction\n",
        "\n",
        "def create_image_with_boxes(img, prediction):\n",
        "  img_tensor = torch.tensor(img)\n",
        "  img_with_boxes = draw_bounding_boxes(\n",
        "      img_tensor,\n",
        "      boxes=prediction[\"boxes\"],\n",
        "      labels=prediction[\"labels\"],\n",
        "      colors=[\"red\" if label==\"person\" else \"green\" for label in prediction[\"labels\"]],\n",
        "      width=2\n",
        "  )\n",
        "  img_with_boxes_np = img_with_boxes.detach().numpy().transpose(1, 2, 0)\n",
        "  return img_with_boxes_np"
      ],
      "metadata": {
        "id": "WRW9dNIAp_xe"
      },
      "execution_count": null,
      "outputs": []
    },
    {
      "cell_type": "code",
      "source": [
        "%%writefile -a app.py\n",
        "st.title(\"Object Detector :tea :coffee:\")\n",
        "upload = st.file_uploader(label=\"Upload Image Here:\", type=[\"png\", \"jpg\", \"jpeg\"])\n",
        "\n",
        "if upload:\n",
        "  img = Image.open(upload)\n",
        "\n",
        "  prediction = make_prediction(img)\n",
        "  img_with_box = create_image_with_boxes(\n",
        "      np.array(img).transpose(2, 0, 1),\n",
        "      prediction\n",
        "  )\n",
        "\n",
        "  fig = plt.figure(figsize=(12, 12))\n",
        "  ax = fig.add_subplot(111)\n",
        "  plt.imshow(img_with_box)\n",
        "  plt.xticks([], [])\n",
        "  plt.yticks([], [])\n",
        "  ax.spines[[\"top\", \"bottom\", \"right\", \"left\"]].set_visible(False)\n",
        "\n",
        "  st.pyplot(fig, use_container_width=True)\n",
        "  del prediction[\"boxes\"]\n",
        "  st.header(\"Prediction Probabilities\")\n",
        "  st.write(prediction)"
      ],
      "metadata": {
        "id": "OvJNvLqPrblI"
      },
      "execution_count": null,
      "outputs": []
    },
    {
      "cell_type": "code",
      "source": [
        "!streamlit run app.py &>/content/logs.txt & npx localtunnel --port 8501 & curl ipv4.icanhazip.com"
      ],
      "metadata": {
        "id": "btehexSDx0xP"
      },
      "execution_count": null,
      "outputs": []
    }
  ]
}